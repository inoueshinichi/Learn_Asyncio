{
 "cells": [
  {
   "cell_type": "markdown",
   "metadata": {},
   "source": [
    "## Asyncioライブラリによる非同期処理\n",
    "+ async : コルーチンを作成\n",
    "+ await : コルーチン内部で実行. awaitの前後でコルーチンを分割してcpuリソースを一時解放する.\n",
    "+ ルーチンの種類: 1. メインルーチン(main関数), 2.サブルーチン(関数), 3. コルーチン(中断・再開可能な関数のような実行単位)"
   ]
  },
  {
   "cell_type": "code",
   "execution_count": 42,
   "metadata": {},
   "outputs": [],
   "source": [
    "import os\n",
    "import sys\n",
    "import pathlib\n",
    "import shutil\n",
    "import re\n",
    "import random\n",
    "import time\n",
    "import datetime\n",
    "\n",
    "import asyncio\n",
    "\n",
    "import numpy as np\n",
    "import scipy as sp\n",
    "import matplotlib.pyplot as plt\n",
    "%matplotlib inline\n",
    "import japanize_matplotlib"
   ]
  },
  {
   "cell_type": "markdown",
   "metadata": {},
   "source": [
    "コルーチン"
   ]
  },
  {
   "cell_type": "code",
   "execution_count": 43,
   "metadata": {},
   "outputs": [],
   "source": [
    "async def coroutine():\n",
    "    print(\"僕はコルーチン\")\n",
    "    return"
   ]
  },
  {
   "cell_type": "code",
   "execution_count": 44,
   "metadata": {},
   "outputs": [
    {
     "data": {
      "text/plain": [
       "<coroutine object coroutine at 0x0000022F8C4E07C0>"
      ]
     },
     "execution_count": 44,
     "metadata": {},
     "output_type": "execute_result"
    }
   ],
   "source": [
    "coroutine()"
   ]
  },
  {
   "cell_type": "code",
   "execution_count": 45,
   "metadata": {},
   "outputs": [
    {
     "name": "stdout",
     "output_type": "stream",
     "text": [
      "僕はコルーチン\n"
     ]
    }
   ],
   "source": [
    "# asyncio.run(coroutine())\n",
    "await coroutine()"
   ]
  },
  {
   "cell_type": "markdown",
   "metadata": {},
   "source": [
    "awaitによるコルーチンの分割"
   ]
  },
  {
   "cell_type": "code",
   "execution_count": 46,
   "metadata": {},
   "outputs": [],
   "source": [
    "async def say_after(delay, what):\n",
    "    print(f\"before_sleep: {what}\")\n",
    "    await asyncio.sleep(delay) # --- [1]\n",
    "    print(what)"
   ]
  },
  {
   "cell_type": "markdown",
   "metadata": {},
   "source": [
    "### Awaitableオブジェクト\n",
    "1. Coroutine\n",
    "2. Task\n",
    "3. Future (Taskの低レベルAPI)"
   ]
  },
  {
   "cell_type": "code",
   "execution_count": 47,
   "metadata": {},
   "outputs": [],
   "source": [
    "async def awaitable_split():\n",
    "    print(f\"started at {time.strftime('%X')}\")\n",
    "    await say_after(1, 'hello')\n",
    "    await say_after(2, 'world')\n",
    "    print(f\"ended at {time.strftime('%X')}\")"
   ]
  },
  {
   "cell_type": "code",
   "execution_count": 48,
   "metadata": {},
   "outputs": [
    {
     "name": "stdout",
     "output_type": "stream",
     "text": [
      "started at 18:26:47\n",
      "before_sleep: hello\n",
      "hello\n",
      "before_sleep: world\n",
      "world\n",
      "ended at 18:26:50\n"
     ]
    }
   ],
   "source": [
    "# asyncio.run(awaitable_split())\n",
    "await awaitable_split()"
   ]
  },
  {
   "cell_type": "markdown",
   "metadata": {},
   "source": [
    "+ 上記は、並行処理されていない。理由は、sleep中にReadyなコルーチンがなかったため.\n",
    "+ 基本的にコルーチンはawaitされて初めてReady状態になる.\n",
    "+ asyncioで並行処理を実行するためには, awaitをせずにコルーチンをReadyな状態にする必要性がある.\n",
    "+ TaskでコルーチンをReady状態に状態遷移できる."
   ]
  },
  {
   "cell_type": "markdown",
   "metadata": {},
   "source": [
    "### TaskとTaskによる並行処理\n",
    "+ Taskとは, コルーチンをReady状態にして、実行状態と結果を管理するコントローラの役割\n",
    "+ Taskは, asyncio.create_task(coroutine())で作成できる. あくまで作成だけ.\n",
    "+ どこかのコルーチンが一時停止状態になって計算リソースが解放された隙に、初めて処理が実行される."
   ]
  },
  {
   "cell_type": "code",
   "execution_count": 49,
   "metadata": {},
   "outputs": [],
   "source": [
    "async def awaitable_split_with_task():\n",
    "    print(f\"started at {time.strftime('%X')}\")\n",
    "    task = asyncio.create_task(say_after(2, 'world'))\n",
    "    await say_after(1, 'hello')\n",
    "    await task\n",
    "    print(f\"ended at {time.strftime('%X')}\")"
   ]
  },
  {
   "cell_type": "code",
   "execution_count": 50,
   "metadata": {},
   "outputs": [
    {
     "name": "stdout",
     "output_type": "stream",
     "text": [
      "started at 18:26:50\n",
      "before_sleep: hello\n",
      "before_sleep: world\n",
      "hello\n",
      "world\n",
      "ended at 18:26:52\n"
     ]
    }
   ],
   "source": [
    "# asyncio.run(awaitable_split_with_task()\n",
    "await awaitable_split_with_task()"
   ]
  },
  {
   "cell_type": "markdown",
   "metadata": {},
   "source": [
    "ただし、コルーチンのReady状態になる順番通りに計算リソースが割り当てられるわけではなく、イベントループの処理ロジックによって割り当てされるため実行順序には注意されたい（経験上、おおよそReady状態になった順番通りにリソースが割り当てられる）。"
   ]
  },
  {
   "cell_type": "markdown",
   "metadata": {},
   "source": [
    "### asyncioによる並行処理は基本的にTaskを利用することになる\n",
    "+ 並行化したいものは, とりあえずTaskを作成してawaitする"
   ]
  },
  {
   "cell_type": "code",
   "execution_count": 51,
   "metadata": {},
   "outputs": [],
   "source": [
    "async def factorial(name, number):\n",
    "    f = 1\n",
    "    for i in range(2, number + 1):\n",
    "        print(f\"Task {name}: Compute factorial({number}), currently i={i}...\")\n",
    "        await asyncio.sleep(1)\n",
    "        f *= i\n",
    "    print(f\"Task {name}: factorial({number}) = {f}\")\n",
    "    return f"
   ]
  },
  {
   "cell_type": "code",
   "execution_count": 52,
   "metadata": {},
   "outputs": [],
   "source": [
    "async def do_asynchronize():\n",
    "    task_a = asyncio.create_task(factorial('A', 2))\n",
    "    task_b = asyncio.create_task(factorial('B', 3))\n",
    "    task_c = asyncio.create_task(factorial('C', 4))\n",
    "\n",
    "    L = []\n",
    "    L.append(await task_a)\n",
    "    L.append(await task_b)\n",
    "    L.append(await task_c)\n",
    "\n",
    "    print(L)"
   ]
  },
  {
   "cell_type": "code",
   "execution_count": 53,
   "metadata": {},
   "outputs": [
    {
     "name": "stdout",
     "output_type": "stream",
     "text": [
      "Task A: Compute factorial(2), currently i=2...\n",
      "Task B: Compute factorial(3), currently i=2...\n",
      "Task C: Compute factorial(4), currently i=2...\n",
      "Task A: factorial(2) = 2\n",
      "Task B: Compute factorial(3), currently i=3...\n",
      "Task C: Compute factorial(4), currently i=3...\n",
      "Task B: factorial(3) = 6\n",
      "Task C: Compute factorial(4), currently i=4...\n",
      "Task C: factorial(4) = 24\n",
      "[2, 6, 24]\n"
     ]
    }
   ],
   "source": [
    "# asyncio.run(do_asynchronize())\n",
    "await do_asynchronize()"
   ]
  },
  {
   "cell_type": "markdown",
   "metadata": {},
   "source": [
    "+ Taskが増えるとcreate_task(...)のボイラーテンプレートコードが増える課題がある\n",
    "+ asyncioは高レベルAPIとしてasyncio.gather()を提供している.\n",
    "+ JSのPromise.all()のような機能"
   ]
  },
  {
   "cell_type": "code",
   "execution_count": 56,
   "metadata": {},
   "outputs": [],
   "source": [
    "async def do_gather_asynchronize():\n",
    "    L = await asyncio.gather(\n",
    "        factorial('A', 2),\n",
    "        factorial('B', 3),\n",
    "        factorial('C', 4),\n",
    "    )\n",
    "    print(L)"
   ]
  },
  {
   "cell_type": "code",
   "execution_count": 57,
   "metadata": {},
   "outputs": [
    {
     "name": "stdout",
     "output_type": "stream",
     "text": [
      "Task A: Compute factorial(2), currently i=2...\n",
      "Task B: Compute factorial(3), currently i=2...\n",
      "Task C: Compute factorial(4), currently i=2...\n",
      "Task A: factorial(2) = 2\n",
      "Task B: Compute factorial(3), currently i=3...\n",
      "Task C: Compute factorial(4), currently i=3...\n",
      "Task B: factorial(3) = 6\n",
      "Task C: Compute factorial(4), currently i=4...\n",
      "Task C: factorial(4) = 24\n",
      "[2, 6, 24]\n"
     ]
    }
   ],
   "source": [
    "await do_gather_asynchronize()"
   ]
  },
  {
   "cell_type": "code",
   "execution_count": null,
   "metadata": {},
   "outputs": [],
   "source": []
  }
 ],
 "metadata": {
  "kernelspec": {
   "display_name": "Python 3 (ipykernel)",
   "language": "python",
   "name": "python3"
  },
  "language_info": {
   "codemirror_mode": {
    "name": "ipython",
    "version": 3
   },
   "file_extension": ".py",
   "mimetype": "text/x-python",
   "name": "python",
   "nbconvert_exporter": "python",
   "pygments_lexer": "ipython3",
   "version": "3.11.9"
  }
 },
 "nbformat": 4,
 "nbformat_minor": 4
}
