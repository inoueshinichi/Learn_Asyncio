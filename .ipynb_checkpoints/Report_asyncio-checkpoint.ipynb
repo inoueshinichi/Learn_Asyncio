{
 "cells": [
  {
   "cell_type": "markdown",
   "metadata": {},
   "source": [
    "## Asyncioライブラリによる非同期処理\n",
    "+ async : コルーチンを作成\n",
    "+ await : コルーチン内部で実行. awaitの前後でコルーチンを分割してcpuリソースを一時解放する.\n",
    "+ ルーチンの種類: 1. メインルーチン(main関数), 2.サブルーチン(関数), 3. コルーチン(中断・再開可能な関数のような実行単位)"
   ]
  },
  {
   "cell_type": "code",
   "execution_count": 3,
   "metadata": {},
   "outputs": [],
   "source": [
    "import os\n",
    "import sys\n",
    "import pathlib\n",
    "import shutil\n",
    "import re\n",
    "import random\n",
    "\n",
    "import asyncio\n",
    "\n",
    "import numpy as np\n",
    "import scipy as sp\n",
    "import matplotlib.pyplot as plt\n",
    "%matplotlib inline\n",
    "import japanize_matplotlib"
   ]
  },
  {
   "cell_type": "markdown",
   "metadata": {},
   "source": [
    "コルーチン"
   ]
  },
  {
   "cell_type": "code",
   "execution_count": null,
   "metadata": {},
   "outputs": [],
   "source": []
  }
 ],
 "metadata": {
  "kernelspec": {
   "display_name": "Python 3",
   "language": "python",
   "name": "python3"
  },
  "language_info": {
   "codemirror_mode": {
    "name": "ipython",
    "version": 3
   },
   "file_extension": ".py",
   "mimetype": "text/x-python",
   "name": "python",
   "nbconvert_exporter": "python",
   "pygments_lexer": "ipython3",
   "version": "3.11.9"
  }
 },
 "nbformat": 4,
 "nbformat_minor": 2
}
